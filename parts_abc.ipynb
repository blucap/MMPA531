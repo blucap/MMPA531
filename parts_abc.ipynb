{
 "cells": [
  {
   "cell_type": "markdown",
   "id": "b998842e",
   "metadata": {},
   "source": [
    "### Extension activity 3.2 Part A, B and C ###"
   ]
  },
  {
   "cell_type": "markdown",
   "id": "f3fd1a81",
   "metadata": {},
   "source": [
    "Initiate Python"
   ]
  },
  {
   "cell_type": "code",
   "execution_count": 1,
   "id": "a2f9870a",
   "metadata": {},
   "outputs": [],
   "source": [
    "import os\n",
    "import xlwings as xw\n",
    "import pandas as pd\n",
    "import numpy as np\n",
    "import seaborn as sns\n",
    "os.chdir('C:\\\\Users\\\\lubberMA\\\\OneDrive - Victoria University of Wellington - STAFF\\\\MyHDocs\\\\DocumentsRedir\\\\lecturing\\\\MMPA531\\\\Session 4\\\\python\\\\')"
   ]
  },
  {
   "cell_type": "markdown",
   "id": "cd343b61",
   "metadata": {},
   "source": [
    "---\n",
    "\n",
    "**Load the excel file**"
   ]
  },
  {
   "cell_type": "code",
   "execution_count": 2,
   "id": "f41951b2",
   "metadata": {},
   "outputs": [
    {
     "data": {
      "text/html": [
       "<div>\n",
       "<style scoped>\n",
       "    .dataframe tbody tr th:only-of-type {\n",
       "        vertical-align: middle;\n",
       "    }\n",
       "\n",
       "    .dataframe tbody tr th {\n",
       "        vertical-align: top;\n",
       "    }\n",
       "\n",
       "    .dataframe thead th {\n",
       "        text-align: right;\n",
       "    }\n",
       "</style>\n",
       "<table border=\"1\" class=\"dataframe\">\n",
       "  <thead>\n",
       "    <tr style=\"text-align: right;\">\n",
       "      <th></th>\n",
       "      <th>first name</th>\n",
       "      <th>last name</th>\n",
       "      <th>email</th>\n",
       "      <th>contact number; post code</th>\n",
       "      <th>dob</th>\n",
       "      <th>country</th>\n",
       "      <th>country .1</th>\n",
       "      <th>suburb</th>\n",
       "      <th>street name</th>\n",
       "      <th>building number</th>\n",
       "      <th>attendance channel</th>\n",
       "      <th>workshop satisfaction</th>\n",
       "      <th>workshop duration</th>\n",
       "      <th>workshop facilitator</th>\n",
       "      <th>website</th>\n",
       "      <th>leadership style</th>\n",
       "    </tr>\n",
       "    <tr>\n",
       "      <th>Staff ID</th>\n",
       "      <th></th>\n",
       "      <th></th>\n",
       "      <th></th>\n",
       "      <th></th>\n",
       "      <th></th>\n",
       "      <th></th>\n",
       "      <th></th>\n",
       "      <th></th>\n",
       "      <th></th>\n",
       "      <th></th>\n",
       "      <th></th>\n",
       "      <th></th>\n",
       "      <th></th>\n",
       "      <th></th>\n",
       "      <th></th>\n",
       "      <th></th>\n",
       "    </tr>\n",
       "  </thead>\n",
       "  <tbody>\n",
       "    <tr>\n",
       "      <th>10053</th>\n",
       "      <td>Lucita</td>\n",
       "      <td>Deason</td>\n",
       "      <td>lucita.deason@wireselectrical.com</td>\n",
       "      <td>+61 283 377 2694;4152</td>\n",
       "      <td>1973-01-28</td>\n",
       "      <td>Australia</td>\n",
       "      <td>Australia</td>\n",
       "      <td>CAMP HILL</td>\n",
       "      <td>CITRINE</td>\n",
       "      <td>1</td>\n",
       "      <td>Online</td>\n",
       "      <td>3</td>\n",
       "      <td>2</td>\n",
       "      <td>2</td>\n",
       "      <td>6</td>\n",
       "      <td>5</td>\n",
       "    </tr>\n",
       "    <tr>\n",
       "      <th>10024</th>\n",
       "      <td>Penny</td>\n",
       "      <td>Smithson</td>\n",
       "      <td>penny.smithson@wireselectrical.com</td>\n",
       "      <td>+61 622 424 7433;4074</td>\n",
       "      <td>1964-09-09</td>\n",
       "      <td>Australia</td>\n",
       "      <td>Australia</td>\n",
       "      <td>MIDDLE PARK</td>\n",
       "      <td>BARUP</td>\n",
       "      <td>7</td>\n",
       "      <td>Online</td>\n",
       "      <td>7</td>\n",
       "      <td>5</td>\n",
       "      <td>7</td>\n",
       "      <td>6</td>\n",
       "      <td>5</td>\n",
       "    </tr>\n",
       "    <tr>\n",
       "      <th>10040</th>\n",
       "      <td>Fin</td>\n",
       "      <td>Nicolson</td>\n",
       "      <td>fin.nicolson@wireselectrical.com</td>\n",
       "      <td>+61 287 614 9273;4110</td>\n",
       "      <td>1978-07-17</td>\n",
       "      <td>Australia</td>\n",
       "      <td>Australia</td>\n",
       "      <td>PALLARA</td>\n",
       "      <td>BASSIN</td>\n",
       "      <td>2</td>\n",
       "      <td>Online</td>\n",
       "      <td>3</td>\n",
       "      <td>4</td>\n",
       "      <td>4</td>\n",
       "      <td>4</td>\n",
       "      <td>4</td>\n",
       "    </tr>\n",
       "  </tbody>\n",
       "</table>\n",
       "</div>"
      ],
      "text/plain": [
       "         first name last name                               email  \\\n",
       "Staff ID                                                            \n",
       "10053        Lucita    Deason   lucita.deason@wireselectrical.com   \n",
       "10024         Penny  Smithson  penny.smithson@wireselectrical.com   \n",
       "10040           Fin  Nicolson    fin.nicolson@wireselectrical.com   \n",
       "\n",
       "         contact number; post code        dob    country country .1  \\\n",
       "Staff ID                                                              \n",
       "10053        +61 283 377 2694;4152 1973-01-28  Australia  Australia   \n",
       "10024        +61 622 424 7433;4074 1964-09-09  Australia  Australia   \n",
       "10040        +61 287 614 9273;4110 1978-07-17  Australia  Australia   \n",
       "\n",
       "               suburb street name building number attendance channel  \\\n",
       "Staff ID                                                               \n",
       "10053       CAMP HILL     CITRINE               1             Online   \n",
       "10024     MIDDLE PARK       BARUP               7             Online   \n",
       "10040         PALLARA      BASSIN               2             Online   \n",
       "\n",
       "          workshop satisfaction  workshop duration  workshop facilitator  \\\n",
       "Staff ID                                                                   \n",
       "10053                         3                  2                     2   \n",
       "10024                         7                  5                     7   \n",
       "10040                         3                  4                     4   \n",
       "\n",
       "          website  leadership style  \n",
       "Staff ID                             \n",
       "10053           6                 5  \n",
       "10024           6                 5  \n",
       "10040           4                 4  "
      ]
     },
     "execution_count": 2,
     "metadata": {},
     "output_type": "execute_result"
    }
   ],
   "source": [
    "df = pd.read_excel(\"PartA.xlsx\").set_index(\"Staff ID\")\n",
    "df.columns = df.columns.str.lower().str.strip()\n",
    "for _ in [\" rating\", \"user experience \", \" quality\"]:\n",
    "    df.columns = df.columns.str.replace(_, \"\")\n",
    "    \n",
    "df.sample(3)"
   ]
  },
  {
   "cell_type": "markdown",
   "id": "97d999eb",
   "metadata": {},
   "source": [
    "**Let's write a definition for re-use**"
   ]
  },
  {
   "cell_type": "code",
   "execution_count": 3,
   "id": "c8d792a7",
   "metadata": {},
   "outputs": [
    {
     "data": {
      "text/html": [
       "<div>\n",
       "<style scoped>\n",
       "    .dataframe tbody tr th:only-of-type {\n",
       "        vertical-align: middle;\n",
       "    }\n",
       "\n",
       "    .dataframe tbody tr th {\n",
       "        vertical-align: top;\n",
       "    }\n",
       "\n",
       "    .dataframe thead th {\n",
       "        text-align: right;\n",
       "    }\n",
       "</style>\n",
       "<table border=\"1\" class=\"dataframe\">\n",
       "  <thead>\n",
       "    <tr style=\"text-align: right;\">\n",
       "      <th></th>\n",
       "      <th>first name</th>\n",
       "      <th>last name</th>\n",
       "      <th>email</th>\n",
       "      <th>contact number; post code</th>\n",
       "      <th>dob</th>\n",
       "      <th>country</th>\n",
       "      <th>country .1</th>\n",
       "      <th>suburb</th>\n",
       "      <th>street name</th>\n",
       "      <th>building number</th>\n",
       "      <th>attendance channel</th>\n",
       "      <th>workshop satisfaction</th>\n",
       "      <th>workshop duration</th>\n",
       "      <th>workshop facilitator</th>\n",
       "      <th>website</th>\n",
       "      <th>leadership style</th>\n",
       "    </tr>\n",
       "    <tr>\n",
       "      <th>Staff ID</th>\n",
       "      <th></th>\n",
       "      <th></th>\n",
       "      <th></th>\n",
       "      <th></th>\n",
       "      <th></th>\n",
       "      <th></th>\n",
       "      <th></th>\n",
       "      <th></th>\n",
       "      <th></th>\n",
       "      <th></th>\n",
       "      <th></th>\n",
       "      <th></th>\n",
       "      <th></th>\n",
       "      <th></th>\n",
       "      <th></th>\n",
       "      <th></th>\n",
       "    </tr>\n",
       "  </thead>\n",
       "  <tbody>\n",
       "    <tr>\n",
       "      <th>10000</th>\n",
       "      <td>Rutter</td>\n",
       "      <td>Willbraham</td>\n",
       "      <td>rutter.willbraham@wireselectrical.com</td>\n",
       "      <td>+61 172 264 4391;4171</td>\n",
       "      <td>1991-11-24</td>\n",
       "      <td>Australia</td>\n",
       "      <td>Australia</td>\n",
       "      <td>HAWTHORNE</td>\n",
       "      <td>AARON</td>\n",
       "      <td>45</td>\n",
       "      <td>On-site</td>\n",
       "      <td>5</td>\n",
       "      <td>4</td>\n",
       "      <td>3</td>\n",
       "      <td>6</td>\n",
       "      <td>4</td>\n",
       "    </tr>\n",
       "    <tr>\n",
       "      <th>10001</th>\n",
       "      <td>Bink</td>\n",
       "      <td>Peter</td>\n",
       "      <td>bink.peter@wireselectrical.com</td>\n",
       "      <td>+61 172 313 0279;4032</td>\n",
       "      <td>1977-02-18</td>\n",
       "      <td>Australia</td>\n",
       "      <td>Australia</td>\n",
       "      <td>CHERMSIDE</td>\n",
       "      <td>ABARTH</td>\n",
       "      <td>6A</td>\n",
       "      <td>Online</td>\n",
       "      <td>5</td>\n",
       "      <td>3</td>\n",
       "      <td>3</td>\n",
       "      <td>4</td>\n",
       "      <td>3</td>\n",
       "    </tr>\n",
       "    <tr>\n",
       "      <th>10002</th>\n",
       "      <td>Michelina</td>\n",
       "      <td>Sangra</td>\n",
       "      <td>michelina.sangra@wireselectrical.com</td>\n",
       "      <td>+61 703 687 0751;4122</td>\n",
       "      <td>1991-01-22</td>\n",
       "      <td>Australia</td>\n",
       "      <td>Australia</td>\n",
       "      <td>UPPER MOUNT GRAVATT</td>\n",
       "      <td>ABBEVILLE</td>\n",
       "      <td>41A</td>\n",
       "      <td>Online</td>\n",
       "      <td>3</td>\n",
       "      <td>1</td>\n",
       "      <td>4</td>\n",
       "      <td>6</td>\n",
       "      <td>4</td>\n",
       "    </tr>\n",
       "  </tbody>\n",
       "</table>\n",
       "</div>"
      ],
      "text/plain": [
       "         first name   last name                                  email  \\\n",
       "Staff ID                                                                 \n",
       "10000        Rutter  Willbraham  rutter.willbraham@wireselectrical.com   \n",
       "10001          Bink       Peter         bink.peter@wireselectrical.com   \n",
       "10002     Michelina      Sangra   michelina.sangra@wireselectrical.com   \n",
       "\n",
       "         contact number; post code        dob    country country .1  \\\n",
       "Staff ID                                                              \n",
       "10000        +61 172 264 4391;4171 1991-11-24  Australia  Australia   \n",
       "10001        +61 172 313 0279;4032 1977-02-18  Australia  Australia   \n",
       "10002        +61 703 687 0751;4122 1991-01-22  Australia  Australia   \n",
       "\n",
       "                       suburb street name building number attendance channel  \\\n",
       "Staff ID                                                                       \n",
       "10000               HAWTHORNE       AARON              45            On-site   \n",
       "10001               CHERMSIDE      ABARTH              6A             Online   \n",
       "10002     UPPER MOUNT GRAVATT   ABBEVILLE             41A             Online   \n",
       "\n",
       "          workshop satisfaction  workshop duration  workshop facilitator  \\\n",
       "Staff ID                                                                   \n",
       "10000                         5                  4                     3   \n",
       "10001                         5                  3                     3   \n",
       "10002                         3                  1                     4   \n",
       "\n",
       "          website  leadership style  \n",
       "Staff ID                             \n",
       "10000           6                 4  \n",
       "10001           4                 3  \n",
       "10002           6                 4  "
      ]
     },
     "execution_count": 3,
     "metadata": {},
     "output_type": "execute_result"
    }
   ],
   "source": [
    "def load_excel(file_name):\n",
    "    df = pd.read_excel(file_name).set_index(\"Staff ID\")\n",
    "    df.columns = df.columns.str.lower().str.strip()\n",
    "    for _ in [\" rating\", \"user experience \", \" quality\"]:\n",
    "        df.columns = df.columns.str.replace(_, \"\")\n",
    "    return df\n",
    "        \n",
    "df = load_excel(\"PartA.xlsx\")\n",
    "df.head(3)"
   ]
  },
  {
   "cell_type": "markdown",
   "id": "a0a6a801",
   "metadata": {},
   "source": [
    "---\n",
    "\n",
    "### Check some basic stuff ###"
   ]
  },
  {
   "cell_type": "code",
   "execution_count": 4,
   "id": "5385157e",
   "metadata": {},
   "outputs": [
    {
     "data": {
      "text/plain": [
       "Australia    92\n",
       "Name: country, dtype: int64"
      ]
     },
     "execution_count": 4,
     "metadata": {},
     "output_type": "execute_result"
    }
   ],
   "source": [
    "df['country'].value_counts()"
   ]
  },
  {
   "cell_type": "code",
   "execution_count": 5,
   "id": "a4d0f25c",
   "metadata": {},
   "outputs": [
    {
     "data": {
      "text/plain": [
       "(92, 16)"
      ]
     },
     "execution_count": 5,
     "metadata": {},
     "output_type": "execute_result"
    }
   ],
   "source": [
    "df.shape"
   ]
  },
  {
   "cell_type": "markdown",
   "id": "2342b628",
   "metadata": {},
   "source": [
    "### Clean data ###\n",
    "\n",
    "Split 'contact number' from 'post code', make sure that postcode is an integer\n",
    "\n",
    "Delete the columns that we do not need.\n",
    "\n"
   ]
  },
  {
   "cell_type": "code",
   "execution_count": 6,
   "id": "e1bfa70d",
   "metadata": {},
   "outputs": [
    {
     "data": {
      "text/html": [
       "<div>\n",
       "<style scoped>\n",
       "    .dataframe tbody tr th:only-of-type {\n",
       "        vertical-align: middle;\n",
       "    }\n",
       "\n",
       "    .dataframe tbody tr th {\n",
       "        vertical-align: top;\n",
       "    }\n",
       "\n",
       "    .dataframe thead th {\n",
       "        text-align: right;\n",
       "    }\n",
       "</style>\n",
       "<table border=\"1\" class=\"dataframe\">\n",
       "  <thead>\n",
       "    <tr style=\"text-align: right;\">\n",
       "      <th></th>\n",
       "      <th>first name</th>\n",
       "      <th>last name</th>\n",
       "      <th>email</th>\n",
       "      <th>dob</th>\n",
       "      <th>country</th>\n",
       "      <th>suburb</th>\n",
       "      <th>street name</th>\n",
       "      <th>building number</th>\n",
       "      <th>attendance channel</th>\n",
       "      <th>workshop satisfaction</th>\n",
       "      <th>workshop duration</th>\n",
       "      <th>workshop facilitator</th>\n",
       "      <th>website</th>\n",
       "      <th>leadership style</th>\n",
       "      <th>contact number</th>\n",
       "      <th>post code</th>\n",
       "    </tr>\n",
       "    <tr>\n",
       "      <th>Staff ID</th>\n",
       "      <th></th>\n",
       "      <th></th>\n",
       "      <th></th>\n",
       "      <th></th>\n",
       "      <th></th>\n",
       "      <th></th>\n",
       "      <th></th>\n",
       "      <th></th>\n",
       "      <th></th>\n",
       "      <th></th>\n",
       "      <th></th>\n",
       "      <th></th>\n",
       "      <th></th>\n",
       "      <th></th>\n",
       "      <th></th>\n",
       "      <th></th>\n",
       "    </tr>\n",
       "  </thead>\n",
       "  <tbody>\n",
       "    <tr>\n",
       "      <th>10089</th>\n",
       "      <td>Cari</td>\n",
       "      <td>Kem</td>\n",
       "      <td>cari.kem@wireselectrical.com</td>\n",
       "      <td>1992-01-21</td>\n",
       "      <td>Australia</td>\n",
       "      <td>BRISBANE CITY</td>\n",
       "      <td>QUEENS WHARF</td>\n",
       "      <td>5B</td>\n",
       "      <td>Online</td>\n",
       "      <td>7</td>\n",
       "      <td>5</td>\n",
       "      <td>6</td>\n",
       "      <td>7</td>\n",
       "      <td>4</td>\n",
       "      <td>+61 946 395 3680</td>\n",
       "      <td>4000</td>\n",
       "    </tr>\n",
       "    <tr>\n",
       "      <th>10090</th>\n",
       "      <td>Belvia</td>\n",
       "      <td>Collaton</td>\n",
       "      <td>belvia.collaton@wireselectrical.com</td>\n",
       "      <td>1982-03-08</td>\n",
       "      <td>Australia</td>\n",
       "      <td>DREWVALE</td>\n",
       "      <td>QUEENSBERRY</td>\n",
       "      <td>4</td>\n",
       "      <td>On-site</td>\n",
       "      <td>7</td>\n",
       "      <td>5</td>\n",
       "      <td>7</td>\n",
       "      <td>7</td>\n",
       "      <td>6</td>\n",
       "      <td>+61 684 669 1633</td>\n",
       "      <td>4116</td>\n",
       "    </tr>\n",
       "    <tr>\n",
       "      <th>10091</th>\n",
       "      <td>Milt</td>\n",
       "      <td>Tortoise</td>\n",
       "      <td>milt.tortoise@wireselectrical.com</td>\n",
       "      <td>1975-09-19</td>\n",
       "      <td>Australia</td>\n",
       "      <td>CHELMER</td>\n",
       "      <td>QUEENSCROFT</td>\n",
       "      <td>120</td>\n",
       "      <td>Online</td>\n",
       "      <td>7</td>\n",
       "      <td>5</td>\n",
       "      <td>6</td>\n",
       "      <td>4</td>\n",
       "      <td>6</td>\n",
       "      <td>+61 857 112 2478</td>\n",
       "      <td>4068</td>\n",
       "    </tr>\n",
       "  </tbody>\n",
       "</table>\n",
       "</div>"
      ],
      "text/plain": [
       "         first name last name                                email        dob  \\\n",
       "Staff ID                                                                        \n",
       "10089          Cari       Kem         cari.kem@wireselectrical.com 1992-01-21   \n",
       "10090        Belvia  Collaton  belvia.collaton@wireselectrical.com 1982-03-08   \n",
       "10091          Milt  Tortoise    milt.tortoise@wireselectrical.com 1975-09-19   \n",
       "\n",
       "            country         suburb   street name building number  \\\n",
       "Staff ID                                                           \n",
       "10089     Australia  BRISBANE CITY  QUEENS WHARF              5B   \n",
       "10090     Australia       DREWVALE   QUEENSBERRY               4   \n",
       "10091     Australia        CHELMER   QUEENSCROFT             120   \n",
       "\n",
       "         attendance channel  workshop satisfaction  workshop duration  \\\n",
       "Staff ID                                                                \n",
       "10089                Online                      7                  5   \n",
       "10090               On-site                      7                  5   \n",
       "10091                Online                      7                  5   \n",
       "\n",
       "          workshop facilitator  website  leadership style    contact number  \\\n",
       "Staff ID                                                                      \n",
       "10089                        6        7                 4  +61 946 395 3680   \n",
       "10090                        7        7                 6  +61 684 669 1633   \n",
       "10091                        6        4                 6  +61 857 112 2478   \n",
       "\n",
       "          post code  \n",
       "Staff ID             \n",
       "10089          4000  \n",
       "10090          4116  \n",
       "10091          4068  "
      ]
     },
     "execution_count": 6,
     "metadata": {},
     "output_type": "execute_result"
    }
   ],
   "source": [
    "df[['contact number','post code']] = df['contact number; post code'].str.split(';', 1, expand=True)\n",
    "df['post code']= df['post code'].astype(int)\n",
    "\n",
    "df = df.drop(['country .1', 'contact number; post code'], axis='columns')\n",
    "df.tail(3)"
   ]
  },
  {
   "cell_type": "markdown",
   "id": "52e041f9",
   "metadata": {},
   "source": [
    "---\n",
    "\n",
    "## Part B\n"
   ]
  },
  {
   "cell_type": "markdown",
   "id": "1846b498",
   "metadata": {},
   "source": [
    "\n",
    "### Create a frame with only relevant data ###\n",
    "\n"
   ]
  },
  {
   "cell_type": "code",
   "execution_count": 7,
   "id": "1fddf0eb",
   "metadata": {},
   "outputs": [
    {
     "data": {
      "text/html": [
       "<div>\n",
       "<style scoped>\n",
       "    .dataframe tbody tr th:only-of-type {\n",
       "        vertical-align: middle;\n",
       "    }\n",
       "\n",
       "    .dataframe tbody tr th {\n",
       "        vertical-align: top;\n",
       "    }\n",
       "\n",
       "    .dataframe thead th {\n",
       "        text-align: right;\n",
       "    }\n",
       "</style>\n",
       "<table border=\"1\" class=\"dataframe\">\n",
       "  <thead>\n",
       "    <tr style=\"text-align: right;\">\n",
       "      <th></th>\n",
       "      <th>workshop satisfaction</th>\n",
       "      <th>workshop duration</th>\n",
       "      <th>workshop facilitator</th>\n",
       "      <th>website</th>\n",
       "      <th>leadership style</th>\n",
       "    </tr>\n",
       "    <tr>\n",
       "      <th>Staff ID</th>\n",
       "      <th></th>\n",
       "      <th></th>\n",
       "      <th></th>\n",
       "      <th></th>\n",
       "      <th></th>\n",
       "    </tr>\n",
       "  </thead>\n",
       "  <tbody>\n",
       "    <tr>\n",
       "      <th>10070</th>\n",
       "      <td>5</td>\n",
       "      <td>3</td>\n",
       "      <td>6</td>\n",
       "      <td>5</td>\n",
       "      <td>5</td>\n",
       "    </tr>\n",
       "    <tr>\n",
       "      <th>10043</th>\n",
       "      <td>7</td>\n",
       "      <td>7</td>\n",
       "      <td>5</td>\n",
       "      <td>5</td>\n",
       "      <td>5</td>\n",
       "    </tr>\n",
       "    <tr>\n",
       "      <th>10000</th>\n",
       "      <td>5</td>\n",
       "      <td>4</td>\n",
       "      <td>3</td>\n",
       "      <td>6</td>\n",
       "      <td>4</td>\n",
       "    </tr>\n",
       "  </tbody>\n",
       "</table>\n",
       "</div>"
      ],
      "text/plain": [
       "          workshop satisfaction  workshop duration  workshop facilitator  \\\n",
       "Staff ID                                                                   \n",
       "10070                         5                  3                     6   \n",
       "10043                         7                  7                     5   \n",
       "10000                         5                  4                     3   \n",
       "\n",
       "          website  leadership style  \n",
       "Staff ID                             \n",
       "10070           5                 5  \n",
       "10043           5                 5  \n",
       "10000           6                 4  "
      ]
     },
     "execution_count": 7,
     "metadata": {},
     "output_type": "execute_result"
    }
   ],
   "source": [
    "dfa = df.filter(regex = \"workshop.*|leader.*|website.*\")\n",
    "dfa.sample(3)"
   ]
  },
  {
   "cell_type": "code",
   "execution_count": 8,
   "id": "56a05fba",
   "metadata": {},
   "outputs": [
    {
     "data": {
      "text/plain": [
       "<AxesSubplot:>"
      ]
     },
     "execution_count": 8,
     "metadata": {},
     "output_type": "execute_result"
    },
    {
     "data": {
      "image/png": "[encoded data removed]",
      "text/plain": [
       "<Figure size 432x288 with 1 Axes>"
      ]
     },
     "metadata": {
      "needs_background": "light"
     },
     "output_type": "display_data"
    }
   ],
   "source": [
    "dfa.mean().plot(kind='bar')"
   ]
  },
  {
   "cell_type": "code",
   "execution_count": 9,
   "id": "a7e4077a",
   "metadata": {},
   "outputs": [
    {
     "data": {
      "text/plain": [
       "<seaborn.axisgrid.FacetGrid at 0x2dbbb48db50>"
      ]
     },
     "execution_count": 9,
     "metadata": {},
     "output_type": "execute_result"
    },
    {
     "data": {
      "image/png": "[encoded data removed]",
      "text/plain": [
       "<Figure size 432x432 with 1 Axes>"
      ]
     },
     "metadata": {
      "needs_background": "light"
     },
     "output_type": "display_data"
    }
   ],
   "source": [
    "g = sns.catplot(data=dfa.stack().reset_index().rename(columns={'level_1': 'Activity', 0: 'Score' }), kind=\"bar\", x=\"Activity\", y=\"Score\", height=6, ci=\"sd\")\n",
    "g.set_xticklabels(rotation=90)"
   ]
  },
  {
   "cell_type": "code",
   "execution_count": 10,
   "id": "e636bc52",
   "metadata": {},
   "outputs": [
    {
     "data": {
      "text/plain": [
       "<seaborn.axisgrid.PairGrid at 0x2dbc37b2bb0>"
      ]
     },
     "execution_count": 10,
     "metadata": {},
     "output_type": "execute_result"
    },
    {
     "data": {
      "image/png": "[encoded data removed]",
      "text/plain": [
       "<Figure size 900x900 with 30 Axes>"
      ]
     },
     "metadata": {
      "needs_background": "light"
     },
     "output_type": "display_data"
    }
   ],
   "source": [
    "sns.pairplot(dfa)"
   ]
  },
  {
   "cell_type": "code",
   "execution_count": 11,
   "id": "b82da11c",
   "metadata": {},
   "outputs": [
    {
     "data": {
      "text/html": [
       "<div>\n",
       "<style scoped>\n",
       "    .dataframe tbody tr th:only-of-type {\n",
       "        vertical-align: middle;\n",
       "    }\n",
       "\n",
       "    .dataframe tbody tr th {\n",
       "        vertical-align: top;\n",
       "    }\n",
       "\n",
       "    .dataframe thead th {\n",
       "        text-align: right;\n",
       "    }\n",
       "</style>\n",
       "<table border=\"1\" class=\"dataframe\">\n",
       "  <thead>\n",
       "    <tr style=\"text-align: right;\">\n",
       "      <th></th>\n",
       "      <th>workshop satisfaction</th>\n",
       "      <th>workshop duration</th>\n",
       "      <th>workshop facilitator</th>\n",
       "      <th>website</th>\n",
       "      <th>leadership style</th>\n",
       "    </tr>\n",
       "  </thead>\n",
       "  <tbody>\n",
       "    <tr>\n",
       "      <th>count</th>\n",
       "      <td>92.000000</td>\n",
       "      <td>92.000000</td>\n",
       "      <td>92.000000</td>\n",
       "      <td>92.000000</td>\n",
       "      <td>92.000000</td>\n",
       "    </tr>\n",
       "    <tr>\n",
       "      <th>mean</th>\n",
       "      <td>5.336957</td>\n",
       "      <td>4.043478</td>\n",
       "      <td>4.695652</td>\n",
       "      <td>5.663043</td>\n",
       "      <td>4.923913</td>\n",
       "    </tr>\n",
       "    <tr>\n",
       "      <th>std</th>\n",
       "      <td>1.556815</td>\n",
       "      <td>1.602971</td>\n",
       "      <td>1.675546</td>\n",
       "      <td>1.141400</td>\n",
       "      <td>1.327922</td>\n",
       "    </tr>\n",
       "    <tr>\n",
       "      <th>min</th>\n",
       "      <td>2.000000</td>\n",
       "      <td>1.000000</td>\n",
       "      <td>1.000000</td>\n",
       "      <td>4.000000</td>\n",
       "      <td>3.000000</td>\n",
       "    </tr>\n",
       "    <tr>\n",
       "      <th>25%</th>\n",
       "      <td>4.000000</td>\n",
       "      <td>3.000000</td>\n",
       "      <td>4.000000</td>\n",
       "      <td>5.000000</td>\n",
       "      <td>4.000000</td>\n",
       "    </tr>\n",
       "    <tr>\n",
       "      <th>50%</th>\n",
       "      <td>5.000000</td>\n",
       "      <td>4.000000</td>\n",
       "      <td>5.000000</td>\n",
       "      <td>6.000000</td>\n",
       "      <td>5.000000</td>\n",
       "    </tr>\n",
       "    <tr>\n",
       "      <th>75%</th>\n",
       "      <td>7.000000</td>\n",
       "      <td>5.000000</td>\n",
       "      <td>6.000000</td>\n",
       "      <td>7.000000</td>\n",
       "      <td>6.000000</td>\n",
       "    </tr>\n",
       "    <tr>\n",
       "      <th>max</th>\n",
       "      <td>7.000000</td>\n",
       "      <td>7.000000</td>\n",
       "      <td>7.000000</td>\n",
       "      <td>7.000000</td>\n",
       "      <td>7.000000</td>\n",
       "    </tr>\n",
       "  </tbody>\n",
       "</table>\n",
       "</div>"
      ],
      "text/plain": [
       "       workshop satisfaction  workshop duration  workshop facilitator  \\\n",
       "count              92.000000          92.000000             92.000000   \n",
       "mean                5.336957           4.043478              4.695652   \n",
       "std                 1.556815           1.602971              1.675546   \n",
       "min                 2.000000           1.000000              1.000000   \n",
       "25%                 4.000000           3.000000              4.000000   \n",
       "50%                 5.000000           4.000000              5.000000   \n",
       "75%                 7.000000           5.000000              6.000000   \n",
       "max                 7.000000           7.000000              7.000000   \n",
       "\n",
       "         website  leadership style  \n",
       "count  92.000000         92.000000  \n",
       "mean    5.663043          4.923913  \n",
       "std     1.141400          1.327922  \n",
       "min     4.000000          3.000000  \n",
       "25%     5.000000          4.000000  \n",
       "50%     6.000000          5.000000  \n",
       "75%     7.000000          6.000000  \n",
       "max     7.000000          7.000000  "
      ]
     },
     "execution_count": 11,
     "metadata": {},
     "output_type": "execute_result"
    }
   ],
   "source": [
    "dfa.describe()"
   ]
  },
  {
   "cell_type": "code",
   "execution_count": 12,
   "id": "67e9be21",
   "metadata": {},
   "outputs": [
    {
     "data": {
      "text/html": [
       "<div>\n",
       "<style scoped>\n",
       "    .dataframe tbody tr th:only-of-type {\n",
       "        vertical-align: middle;\n",
       "    }\n",
       "\n",
       "    .dataframe tbody tr th {\n",
       "        vertical-align: top;\n",
       "    }\n",
       "\n",
       "    .dataframe thead th {\n",
       "        text-align: right;\n",
       "    }\n",
       "</style>\n",
       "<table border=\"1\" class=\"dataframe\">\n",
       "  <thead>\n",
       "    <tr style=\"text-align: right;\">\n",
       "      <th></th>\n",
       "      <th>workshop satisfaction</th>\n",
       "      <th>workshop duration</th>\n",
       "      <th>workshop facilitator</th>\n",
       "      <th>website</th>\n",
       "      <th>leadership style</th>\n",
       "    </tr>\n",
       "  </thead>\n",
       "  <tbody>\n",
       "    <tr>\n",
       "      <th>workshop satisfaction</th>\n",
       "      <td>1.000000</td>\n",
       "      <td>0.531289</td>\n",
       "      <td>0.785402</td>\n",
       "      <td>-0.201323</td>\n",
       "      <td>0.033800</td>\n",
       "    </tr>\n",
       "    <tr>\n",
       "      <th>workshop duration</th>\n",
       "      <td>0.531289</td>\n",
       "      <td>1.000000</td>\n",
       "      <td>0.389577</td>\n",
       "      <td>-0.039954</td>\n",
       "      <td>0.115146</td>\n",
       "    </tr>\n",
       "    <tr>\n",
       "      <th>workshop facilitator</th>\n",
       "      <td>0.785402</td>\n",
       "      <td>0.389577</td>\n",
       "      <td>1.000000</td>\n",
       "      <td>-0.209354</td>\n",
       "      <td>-0.020400</td>\n",
       "    </tr>\n",
       "    <tr>\n",
       "      <th>website</th>\n",
       "      <td>-0.201323</td>\n",
       "      <td>-0.039954</td>\n",
       "      <td>-0.209354</td>\n",
       "      <td>1.000000</td>\n",
       "      <td>0.345407</td>\n",
       "    </tr>\n",
       "    <tr>\n",
       "      <th>leadership style</th>\n",
       "      <td>0.033800</td>\n",
       "      <td>0.115146</td>\n",
       "      <td>-0.020400</td>\n",
       "      <td>0.345407</td>\n",
       "      <td>1.000000</td>\n",
       "    </tr>\n",
       "  </tbody>\n",
       "</table>\n",
       "</div>"
      ],
      "text/plain": [
       "                       workshop satisfaction  workshop duration  \\\n",
       "workshop satisfaction               1.000000           0.531289   \n",
       "workshop duration                   0.531289           1.000000   \n",
       "workshop facilitator                0.785402           0.389577   \n",
       "website                            -0.201323          -0.039954   \n",
       "leadership style                    0.033800           0.115146   \n",
       "\n",
       "                       workshop facilitator   website  leadership style  \n",
       "workshop satisfaction              0.785402 -0.201323          0.033800  \n",
       "workshop duration                  0.389577 -0.039954          0.115146  \n",
       "workshop facilitator               1.000000 -0.209354         -0.020400  \n",
       "website                           -0.209354  1.000000          0.345407  \n",
       "leadership style                  -0.020400  0.345407          1.000000  "
      ]
     },
     "execution_count": 12,
     "metadata": {},
     "output_type": "execute_result"
    }
   ],
   "source": [
    "dfa.corr()"
   ]
  },
  {
   "cell_type": "code",
   "execution_count": 13,
   "id": "a8103dca",
   "metadata": {},
   "outputs": [
    {
     "data": {
      "text/plain": [
       "<AxesSubplot:>"
      ]
     },
     "execution_count": 13,
     "metadata": {},
     "output_type": "execute_result"
    },
    {
     "data": {
      "image/png": "[encoded data removed]",
      "text/plain": [
       "<Figure size 432x288 with 2 Axes>"
      ]
     },
     "metadata": {
      "needs_background": "light"
     },
     "output_type": "display_data"
    }
   ],
   "source": [
    "sns.heatmap(dfa.corr(), cmap=\"Greys\")"
   ]
  },
  {
   "cell_type": "markdown",
   "id": "13899529",
   "metadata": {},
   "source": [
    "### Port the data to Excel ###"
   ]
  },
  {
   "cell_type": "code",
   "execution_count": 14,
   "id": "3020627b",
   "metadata": {},
   "outputs": [],
   "source": [
    "def port_to_excel(df):\n",
    "    wb = xw.Book()\n",
    "    sht = wb.sheets['Sheet1']\n",
    "    sht.range('A1').value = df\n",
    "    \n",
    "port_to_excel(df)    "
   ]
  },
  {
   "cell_type": "markdown",
   "id": "807c6246",
   "metadata": {},
   "source": [
    "---\n",
    "\n",
    "### t-test\n"
   ]
  },
  {
   "cell_type": "code",
   "execution_count": 15,
   "id": "62389bbb",
   "metadata": {},
   "outputs": [
    {
     "data": {
      "text/html": [
       "<div>\n",
       "<style scoped>\n",
       "    .dataframe tbody tr th:only-of-type {\n",
       "        vertical-align: middle;\n",
       "    }\n",
       "\n",
       "    .dataframe tbody tr th {\n",
       "        vertical-align: top;\n",
       "    }\n",
       "\n",
       "    .dataframe thead th {\n",
       "        text-align: right;\n",
       "    }\n",
       "</style>\n",
       "<table border=\"1\" class=\"dataframe\">\n",
       "  <thead>\n",
       "    <tr style=\"text-align: right;\">\n",
       "      <th></th>\n",
       "      <th>workshop satisfaction</th>\n",
       "      <th>workshop duration</th>\n",
       "      <th>workshop facilitator</th>\n",
       "      <th>website</th>\n",
       "      <th>leadership style</th>\n",
       "    </tr>\n",
       "    <tr>\n",
       "      <th>Staff ID</th>\n",
       "      <th></th>\n",
       "      <th></th>\n",
       "      <th></th>\n",
       "      <th></th>\n",
       "      <th></th>\n",
       "    </tr>\n",
       "  </thead>\n",
       "  <tbody>\n",
       "    <tr>\n",
       "      <th>10001</th>\n",
       "      <td>5</td>\n",
       "      <td>3</td>\n",
       "      <td>3</td>\n",
       "      <td>4</td>\n",
       "      <td>3</td>\n",
       "    </tr>\n",
       "    <tr>\n",
       "      <th>10002</th>\n",
       "      <td>3</td>\n",
       "      <td>1</td>\n",
       "      <td>4</td>\n",
       "      <td>6</td>\n",
       "      <td>4</td>\n",
       "    </tr>\n",
       "    <tr>\n",
       "      <th>10004</th>\n",
       "      <td>7</td>\n",
       "      <td>5</td>\n",
       "      <td>5</td>\n",
       "      <td>5</td>\n",
       "      <td>5</td>\n",
       "    </tr>\n",
       "    <tr>\n",
       "      <th>10008</th>\n",
       "      <td>5</td>\n",
       "      <td>5</td>\n",
       "      <td>5</td>\n",
       "      <td>6</td>\n",
       "      <td>3</td>\n",
       "    </tr>\n",
       "    <tr>\n",
       "      <th>10011</th>\n",
       "      <td>7</td>\n",
       "      <td>5</td>\n",
       "      <td>6</td>\n",
       "      <td>5</td>\n",
       "      <td>4</td>\n",
       "    </tr>\n",
       "  </tbody>\n",
       "</table>\n",
       "</div>"
      ],
      "text/plain": [
       "          workshop satisfaction  workshop duration  workshop facilitator  \\\n",
       "Staff ID                                                                   \n",
       "10001                         5                  3                     3   \n",
       "10002                         3                  1                     4   \n",
       "10004                         7                  5                     5   \n",
       "10008                         5                  5                     5   \n",
       "10011                         7                  5                     6   \n",
       "\n",
       "          website  leadership style  \n",
       "Staff ID                             \n",
       "10001           4                 3  \n",
       "10002           6                 4  \n",
       "10004           5                 5  \n",
       "10008           6                 3  \n",
       "10011           5                 4  "
      ]
     },
     "execution_count": 15,
     "metadata": {},
     "output_type": "execute_result"
    }
   ],
   "source": [
    "from scipy.stats import ttest_ind\n",
    "\n",
    "df = load_excel(\"PartC.xlsx\")\n",
    "dfa = df.filter(regex = \"workshop.*|leader.*|website.*\")\n",
    "dfa.head()"
   ]
  },
  {
   "cell_type": "code",
   "execution_count": 16,
   "id": "1d37b483",
   "metadata": {},
   "outputs": [
    {
     "data": {
      "text/html": [
       "<div>\n",
       "<style scoped>\n",
       "    .dataframe tbody tr th:only-of-type {\n",
       "        vertical-align: middle;\n",
       "    }\n",
       "\n",
       "    .dataframe tbody tr th {\n",
       "        vertical-align: top;\n",
       "    }\n",
       "\n",
       "    .dataframe thead th {\n",
       "        text-align: right;\n",
       "    }\n",
       "</style>\n",
       "<table border=\"1\" class=\"dataframe\">\n",
       "  <thead>\n",
       "    <tr style=\"text-align: right;\">\n",
       "      <th></th>\n",
       "      <th>workshop satisfaction</th>\n",
       "      <th>workshop duration</th>\n",
       "      <th>workshop facilitator</th>\n",
       "      <th>website</th>\n",
       "      <th>leadership style</th>\n",
       "      <th>attendance channel</th>\n",
       "    </tr>\n",
       "    <tr>\n",
       "      <th>Staff ID</th>\n",
       "      <th></th>\n",
       "      <th></th>\n",
       "      <th></th>\n",
       "      <th></th>\n",
       "      <th></th>\n",
       "      <th></th>\n",
       "    </tr>\n",
       "  </thead>\n",
       "  <tbody>\n",
       "    <tr>\n",
       "      <th>10001</th>\n",
       "      <td>5</td>\n",
       "      <td>3</td>\n",
       "      <td>3</td>\n",
       "      <td>4</td>\n",
       "      <td>3</td>\n",
       "      <td>Online</td>\n",
       "    </tr>\n",
       "    <tr>\n",
       "      <th>10002</th>\n",
       "      <td>3</td>\n",
       "      <td>1</td>\n",
       "      <td>4</td>\n",
       "      <td>6</td>\n",
       "      <td>4</td>\n",
       "      <td>Online</td>\n",
       "    </tr>\n",
       "    <tr>\n",
       "      <th>10004</th>\n",
       "      <td>7</td>\n",
       "      <td>5</td>\n",
       "      <td>5</td>\n",
       "      <td>5</td>\n",
       "      <td>5</td>\n",
       "      <td>Online</td>\n",
       "    </tr>\n",
       "    <tr>\n",
       "      <th>10008</th>\n",
       "      <td>5</td>\n",
       "      <td>5</td>\n",
       "      <td>5</td>\n",
       "      <td>6</td>\n",
       "      <td>3</td>\n",
       "      <td>Online</td>\n",
       "    </tr>\n",
       "    <tr>\n",
       "      <th>10011</th>\n",
       "      <td>7</td>\n",
       "      <td>5</td>\n",
       "      <td>6</td>\n",
       "      <td>5</td>\n",
       "      <td>4</td>\n",
       "      <td>Online</td>\n",
       "    </tr>\n",
       "  </tbody>\n",
       "</table>\n",
       "</div>"
      ],
      "text/plain": [
       "          workshop satisfaction  workshop duration  workshop facilitator  \\\n",
       "Staff ID                                                                   \n",
       "10001                         5                  3                     3   \n",
       "10002                         3                  1                     4   \n",
       "10004                         7                  5                     5   \n",
       "10008                         5                  5                     5   \n",
       "10011                         7                  5                     6   \n",
       "\n",
       "          website  leadership style attendance channel  \n",
       "Staff ID                                                \n",
       "10001           4                 3             Online  \n",
       "10002           6                 4             Online  \n",
       "10004           5                 5             Online  \n",
       "10008           6                 3             Online  \n",
       "10011           5                 4             Online  "
      ]
     },
     "execution_count": 16,
     "metadata": {},
     "output_type": "execute_result"
    }
   ],
   "source": [
    "dfa=dfa.join(df['attendance channel'])\n",
    "dfa.head()"
   ]
  },
  {
   "cell_type": "markdown",
   "id": "b98e9df9",
   "metadata": {},
   "source": [
    "**Write a function for the t-tests:**"
   ]
  },
  {
   "cell_type": "code",
   "execution_count": 17,
   "id": "ffc619a6",
   "metadata": {},
   "outputs": [],
   "source": [
    "def ttest(df, split_var, testvar):\n",
    "    # Get the values for the split variable\n",
    "    s = dfa[split_var].value_counts()\n",
    "    s=list(s.index)\n",
    "    # Get groups\n",
    "    group1 = df[df[split_var]==s[0]][testvar]\n",
    "    group2 = df[df[split_var]==s[1]][testvar]\n",
    "    t = ttest_ind(group1, group2)\n",
    "    # Print results\n",
    "    print(f'{testvar.capitalize()}:' )\n",
    "    print(f'{s[0]} mean {group1.mean():.3f}' )\n",
    "    print(f'{s[1]} mean {group2.mean():.3f}' )\n",
    "    if group1.mean() >= group2.mean():\n",
    "        print(f'Difference {s[0]} minus {s[1]}: {group1.mean()-group2.mean():.3f}\\n')\n",
    "        print(f'T-test statistic: {t[0]:.3f}')\n",
    "    else:\n",
    "        print(f'Difference {s[1]} minus {s[0]}: {group2.mean()-group1.mean():.3f}')\n",
    "        print(f'T-test statistic: {-t[0]:.3f}')\n",
    "    print(f'T-test p-value: {t[1]:.3f}, two-tailed')\n",
    "    print(f'T-test p-value: {t[1]/2.0:.3f}, one-tailed')\n",
    "    return(t)"
   ]
  },
  {
   "cell_type": "code",
   "execution_count": 18,
   "id": "7b5e0393",
   "metadata": {},
   "outputs": [
    {
     "name": "stdout",
     "output_type": "stream",
     "text": [
      "Workshop satisfaction:\n",
      "Online mean 5.175\n",
      "On-site mean 5.600\n",
      "Difference On-site minus Online: 0.425\n",
      "T-test statistic: 1.274\n",
      "T-test p-value: 0.206, two-tailed\n",
      "T-test p-value: 0.103, one-tailed\n"
     ]
    }
   ],
   "source": [
    "t = ttest(df, 'attendance channel', 'workshop satisfaction' )"
   ]
  },
  {
   "cell_type": "code",
   "execution_count": 19,
   "id": "988fabb7",
   "metadata": {},
   "outputs": [
    {
     "name": "stdout",
     "output_type": "stream",
     "text": [
      "Workshop duration:\n",
      "Online mean 3.789\n",
      "On-site mean 4.457\n",
      "Difference On-site minus Online: 0.668\n",
      "T-test statistic: 1.970\n",
      "T-test p-value: 0.052, two-tailed\n",
      "T-test p-value: 0.026, one-tailed\n"
     ]
    }
   ],
   "source": [
    "t = ttest(df, 'attendance channel', 'workshop duration')"
   ]
  },
  {
   "cell_type": "code",
   "execution_count": 20,
   "id": "9c540ab9",
   "metadata": {},
   "outputs": [
    {
     "name": "stdout",
     "output_type": "stream",
     "text": [
      "Workshop facilitator:\n",
      "Online mean 4.509\n",
      "On-site mean 5.000\n",
      "Difference On-site minus Online: 0.491\n",
      "T-test statistic: 1.372\n",
      "T-test p-value: 0.174, two-tailed\n",
      "T-test p-value: 0.087, one-tailed\n"
     ]
    }
   ],
   "source": [
    "t = ttest(df, 'attendance channel', 'workshop facilitator')"
   ]
  },
  {
   "cell_type": "code",
   "execution_count": 21,
   "id": "44a35d67",
   "metadata": {},
   "outputs": [
    {
     "data": {
      "text/html": [
       "<div>\n",
       "<style scoped>\n",
       "    .dataframe tbody tr th:only-of-type {\n",
       "        vertical-align: middle;\n",
       "    }\n",
       "\n",
       "    .dataframe tbody tr th {\n",
       "        vertical-align: top;\n",
       "    }\n",
       "\n",
       "    .dataframe thead th {\n",
       "        text-align: right;\n",
       "    }\n",
       "</style>\n",
       "<table border=\"1\" class=\"dataframe\">\n",
       "  <thead>\n",
       "    <tr style=\"text-align: right;\">\n",
       "      <th></th>\n",
       "      <th>workshop satisfaction</th>\n",
       "      <th>workshop duration</th>\n",
       "      <th>workshop facilitator</th>\n",
       "      <th>website</th>\n",
       "      <th>leadership style</th>\n",
       "    </tr>\n",
       "  </thead>\n",
       "  <tbody>\n",
       "    <tr>\n",
       "      <th>workshop satisfaction</th>\n",
       "      <td>1.000000</td>\n",
       "      <td>0.531289</td>\n",
       "      <td>0.785402</td>\n",
       "      <td>-0.201323</td>\n",
       "      <td>0.033800</td>\n",
       "    </tr>\n",
       "    <tr>\n",
       "      <th>workshop duration</th>\n",
       "      <td>0.531289</td>\n",
       "      <td>1.000000</td>\n",
       "      <td>0.389577</td>\n",
       "      <td>-0.039954</td>\n",
       "      <td>0.115146</td>\n",
       "    </tr>\n",
       "    <tr>\n",
       "      <th>workshop facilitator</th>\n",
       "      <td>0.785402</td>\n",
       "      <td>0.389577</td>\n",
       "      <td>1.000000</td>\n",
       "      <td>-0.209354</td>\n",
       "      <td>-0.020400</td>\n",
       "    </tr>\n",
       "    <tr>\n",
       "      <th>website</th>\n",
       "      <td>-0.201323</td>\n",
       "      <td>-0.039954</td>\n",
       "      <td>-0.209354</td>\n",
       "      <td>1.000000</td>\n",
       "      <td>0.345407</td>\n",
       "    </tr>\n",
       "    <tr>\n",
       "      <th>leadership style</th>\n",
       "      <td>0.033800</td>\n",
       "      <td>0.115146</td>\n",
       "      <td>-0.020400</td>\n",
       "      <td>0.345407</td>\n",
       "      <td>1.000000</td>\n",
       "    </tr>\n",
       "  </tbody>\n",
       "</table>\n",
       "</div>"
      ],
      "text/plain": [
       "                       workshop satisfaction  workshop duration  \\\n",
       "workshop satisfaction               1.000000           0.531289   \n",
       "workshop duration                   0.531289           1.000000   \n",
       "workshop facilitator                0.785402           0.389577   \n",
       "website                            -0.201323          -0.039954   \n",
       "leadership style                    0.033800           0.115146   \n",
       "\n",
       "                       workshop facilitator   website  leadership style  \n",
       "workshop satisfaction              0.785402 -0.201323          0.033800  \n",
       "workshop duration                  0.389577 -0.039954          0.115146  \n",
       "workshop facilitator               1.000000 -0.209354         -0.020400  \n",
       "website                           -0.209354  1.000000          0.345407  \n",
       "leadership style                  -0.020400  0.345407          1.000000  "
      ]
     },
     "execution_count": 21,
     "metadata": {},
     "output_type": "execute_result"
    }
   ],
   "source": [
    "dfa.corr()"
   ]
  },
  {
   "cell_type": "code",
   "execution_count": 22,
   "id": "10b30118",
   "metadata": {},
   "outputs": [
    {
     "data": {
      "text/plain": [
       "<AxesSubplot:xlabel='workshop duration', ylabel='workshop satisfaction'>"
      ]
     },
     "execution_count": 22,
     "metadata": {},
     "output_type": "execute_result"
    },
    {
     "data": {
      "image/png": "[encoded data removed]",
      "text/plain": [
       "<Figure size 432x288 with 1 Axes>"
      ]
     },
     "metadata": {
      "needs_background": "light"
     },
     "output_type": "display_data"
    }
   ],
   "source": [
    "sns.scatterplot(data=dfa, x=\"workshop duration\", y=\"workshop satisfaction\", hue='attendance channel')"
   ]
  },
  {
   "cell_type": "code",
   "execution_count": 23,
   "id": "7492d316",
   "metadata": {},
   "outputs": [
    {
     "data": {
      "text/plain": [
       "<AxesSubplot:xlabel='workshop duration', ylabel='workshop satisfaction'>"
      ]
     },
     "execution_count": 23,
     "metadata": {},
     "output_type": "execute_result"
    },
    {
     "data": {
      "image/png": "[encoded data removed]",
      "text/plain": [
       "<Figure size 432x288 with 1 Axes>"
      ]
     },
     "metadata": {
      "needs_background": "light"
     },
     "output_type": "display_data"
    }
   ],
   "source": [
    "sns.regplot(data=dfa, x=\"workshop duration\", y=\"workshop satisfaction\")"
   ]
  },
  {
   "cell_type": "code",
   "execution_count": 24,
   "id": "83909e33",
   "metadata": {},
   "outputs": [
    {
     "data": {
      "text/plain": [
       "<AxesSubplot:xlabel='workshop facilitator', ylabel='workshop satisfaction'>"
      ]
     },
     "execution_count": 24,
     "metadata": {},
     "output_type": "execute_result"
    },
    {
     "data": {
      "image/png": "[encoded data removed]",
      "text/plain": [
       "<Figure size 432x288 with 1 Axes>"
      ]
     },
     "metadata": {
      "needs_background": "light"
     },
     "output_type": "display_data"
    }
   ],
   "source": [
    "sns.regplot(data=dfa, x=\"workshop facilitator\", y=\"workshop satisfaction\")"
   ]
  }
 ],
 "metadata": {
  "kernelspec": {
   "display_name": "Python 3 (ipykernel)",
   "language": "python",
   "name": "python3"
  },
  "language_info": {
   "codemirror_mode": {
    "name": "ipython",
    "version": 3
   },
   "file_extension": ".py",
   "mimetype": "text/x-python",
   "name": "python",
   "nbconvert_exporter": "python",
   "pygments_lexer": "ipython3",
   "version": "3.8.13"
  }
 },
 "nbformat": 4,
 "nbformat_minor": 5
}
